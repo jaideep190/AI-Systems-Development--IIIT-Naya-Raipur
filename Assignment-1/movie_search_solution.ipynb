{
 "cells": [
  {
   "cell_type": "code",
   "execution_count": null,
   "id": "36683efc",
   "metadata": {
    "vscode": {
     "languageId": "plaintext"
    }
   },
   "outputs": [],
   "source": [
    "import pandas as pd\n",
    "from movie_search import search_movies\n"
   ]
  },
  {
   "cell_type": "code",
   "execution_count": null,
   "id": "1c03c1d3",
   "metadata": {
    "vscode": {
     "languageId": "plaintext"
    }
   },
   "outputs": [],
   "source": [
    "# Example query\n",
    "search_movies(\"spy thriller in Paris\", 5)"
   ]
  }
 ],
 "metadata": {
  "language_info": {
   "name": "python"
  }
 },
 "nbformat": 4,
 "nbformat_minor": 5
}
